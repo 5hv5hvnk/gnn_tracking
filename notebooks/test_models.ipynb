{
 "cells": [
  {
   "cell_type": "code",
   "execution_count": 1,
   "id": "728d1b5f",
   "metadata": {},
   "outputs": [
    {
     "name": "stderr",
     "output_type": "stream",
     "text": [
      "/home/jdezoort/.conda/envs/pyg2/lib/python3.9/site-packages/tqdm/auto.py:22: TqdmWarning: IProgress not found. Please update jupyter and ipywidgets. See https://ipywidgets.readthedocs.io/en/stable/user_install.html\n",
      "  from .autonotebook import tqdm as notebook_tqdm\n"
     ]
    }
   ],
   "source": [
    "import os\n",
    "import sys \n",
    "sys.path.append('../src/gnn_tracking')\n",
    "import torch\n",
    "from torch_geometric.data import Data\n",
    "from models.mlp import MLP\n",
    "from models.interaction_network import InteractionNetwork as IN\n",
    "from models.edge_classifier import EdgeClassifier as EC"
   ]
  },
  {
   "cell_type": "code",
   "execution_count": 2,
   "id": "280241c4",
   "metadata": {},
   "outputs": [
    {
     "data": {
      "text/plain": [
       "tensor([[ 0.0218,  0.0353, -0.0371],\n",
       "        [ 0.0218,  0.0353, -0.0371],\n",
       "        [ 0.0218,  0.0353, -0.0371]], grad_fn=<AddmmBackward0>)"
      ]
     },
     "execution_count": 2,
     "metadata": {},
     "output_type": "execute_result"
    }
   ],
   "source": [
    "model = MLP(4, 3, 120, L=20)\n",
    "x = torch.tensor([[1,2,3,4], [1,2,3,2], [1,4,3,2]]).float()\n",
    "model(x)"
   ]
  },
  {
   "cell_type": "code",
   "execution_count": 3,
   "id": "62e510ce",
   "metadata": {},
   "outputs": [
    {
     "name": "stdout",
     "output_type": "stream",
     "text": [
      "Data(x=[4, 2], edge_index=[2, 5], edge_attr=[5, 1])\n"
     ]
    },
    {
     "data": {
      "text/plain": [
       "(tensor([[-0.0242,  0.0730, -0.0353],\n",
       "         [-0.0218, -0.0207, -0.0979],\n",
       "         [-0.1095, -0.0562, -0.3149],\n",
       "         [-0.0431, -0.0216, -0.1243]], grad_fn=<AddmmBackward0>),\n",
       " tensor([[-0.0125,  0.1597,  0.1708,  0.1172],\n",
       "         [-0.0536,  0.3098,  0.0886,  0.0607],\n",
       "         [-0.2097,  0.4605,  0.5488,  0.2225],\n",
       "         [ 0.0776,  0.4131,  0.1629, -0.0665],\n",
       "         [-0.8206,  0.4219,  1.1445,  0.1107]], grad_fn=<AddmmBackward0>))"
      ]
     },
     "execution_count": 3,
     "metadata": {},
     "output_type": "execute_result"
    }
   ],
   "source": [
    "data = Data(x=torch.tensor([[1,2],[2,1],[4,5],[3,4]]).float(),\n",
    "            edge_index=torch.tensor([[0,1,1,2,3],\n",
    "                                     [1,0,2,1,2]]).long(),\n",
    "            edge_attr=torch.tensor([[2.3], [2.4], [5.2], [2.3], [15]]))\n",
    "model = IN(2, 1, 3)\n",
    "print(data)\n",
    "model(data.x, data.edge_index, data.edge_attr)"
   ]
  },
  {
   "cell_type": "code",
   "execution_count": 5,
   "id": "f6e9a121",
   "metadata": {},
   "outputs": [
    {
     "data": {
      "text/plain": [
       "tensor([[0.4810],\n",
       "        [0.4806],\n",
       "        [0.4841],\n",
       "        [0.4826],\n",
       "        [0.4926]], grad_fn=<SigmoidBackward0>)"
      ]
     },
     "execution_count": 5,
     "metadata": {},
     "output_type": "execute_result"
    }
   ],
   "source": [
    "model = EC(2, 1, L=1)\n",
    "model(data.x, data.edge_index, data.edge_attr)"
   ]
  },
  {
   "cell_type": "code",
   "execution_count": null,
   "id": "43bba3e3",
   "metadata": {},
   "outputs": [],
   "source": []
  },
  {
   "cell_type": "code",
   "execution_count": null,
   "id": "4f39ecf6",
   "metadata": {},
   "outputs": [],
   "source": []
  }
 ],
 "metadata": {
  "kernelspec": {
   "display_name": "Python 3 (ipykernel)",
   "language": "python",
   "name": "python3"
  },
  "language_info": {
   "codemirror_mode": {
    "name": "ipython",
    "version": 3
   },
   "file_extension": ".py",
   "mimetype": "text/x-python",
   "name": "python",
   "nbconvert_exporter": "python",
   "pygments_lexer": "ipython3",
   "version": "3.9.12"
  }
 },
 "nbformat": 4,
 "nbformat_minor": 5
}
