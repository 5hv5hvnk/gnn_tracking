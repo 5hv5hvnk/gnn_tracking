{
 "cells": [
  {
   "cell_type": "code",
   "execution_count": null,
   "id": "728d1b5f",
   "metadata": {},
   "outputs": [],
   "source": [
    "import os\n",
    "import sys \n",
    "sys.path.append('../src/gnn_tracking')\n",
    "import torch\n",
    "from torch_geometric.data import Data\n",
    "from models.mlp import MLP\n",
    "from models.interaction_network import InteractionNetwork as IN\n",
    "from models.edge_classifier import EdgeClassifier as EC"
   ]
  },
  {
   "cell_type": "code",
   "execution_count": null,
   "id": "280241c4",
   "metadata": {},
   "outputs": [],
   "source": [
    "model = MLP(4, 3, 120, L=20)\n",
    "x = torch.tensor([[1,2,3,4], [1,2,3,2], [1,4,3,2]]).float()\n",
    "model(x)"
   ]
  },
  {
   "cell_type": "code",
   "execution_count": null,
   "id": "62e510ce",
   "metadata": {},
   "outputs": [],
   "source": [
    "data = Data(x=torch.tensor([[1,2],[2,1],[4,5],[3,4]]).float(),\n",
    "            edge_index=torch.tensor([[0,1,1,2,3],\n",
    "                                     [1,0,2,1,2]]).long(),\n",
    "            edge_attr=torch.tensor([[2.3], [2.4], [5.2], [2.3], [15]]))\n",
    "model = IN(2, 1, 3)\n",
    "print(data)\n",
    "model(data.x, data.edge_index, data.edge_attr)"
   ]
  },
  {
   "cell_type": "code",
   "execution_count": null,
   "id": "f6e9a121",
   "metadata": {},
   "outputs": [],
   "source": [
    "model = EC(2, 1, L=1)\n",
    "model(data.x, data.edge_index, data.edge_attr)"
   ]
  },
  {
   "cell_type": "code",
   "execution_count": null,
   "id": "43bba3e3",
   "metadata": {},
   "outputs": [],
   "source": []
  },
  {
   "cell_type": "code",
   "execution_count": null,
   "id": "4f39ecf6",
   "metadata": {},
   "outputs": [],
   "source": []
  }
 ],
 "metadata": {
  "kernelspec": {
   "display_name": "Python 3 (ipykernel)",
   "language": "python",
   "name": "python3"
  },
  "language_info": {
   "codemirror_mode": {
    "name": "ipython",
    "version": 3
   },
   "file_extension": ".py",
   "mimetype": "text/x-python",
   "name": "python",
   "nbconvert_exporter": "python",
   "pygments_lexer": "ipython3",
   "version": "3.9.12"
  }
 },
 "nbformat": 4,
 "nbformat_minor": 5
}
